{
  "cells": [
    {
      "cell_type": "markdown",
      "metadata": {
        "pycharm": {},
        "id": "GbWBz7LRSu-o"
      },
      "source": [
        "# Exploratory Data Analysis\n",
        "\n",
        "In this notebook you will explore the citation dataset. You will already have installed py2neo, pandas, and matplotlib when setting up our environment, so you will now import them (remember to unset Reset all runtimes before running):"
      ]
    },
    {
      "cell_type": "code",
      "execution_count": null,
      "metadata": {
        "pycharm": {},
        "id": "lvYY9Q2NSu-s"
      },
      "outputs": [],
      "source": [
        "from py2neo import Graph\n",
        "import pandas as pd\n",
        "\n",
        "import matplotlib \n",
        "import matplotlib.pyplot as plt\n",
        "\n",
        "plt.style.use('fivethirtyeight')\n",
        "pd.set_option('display.float_format', lambda x: '%.3f' % x)"
      ]
    },
    {
      "cell_type": "markdown",
      "metadata": {
        "pycharm": {},
        "id": "8fC9XsIpSu-v"
      },
      "source": [
        "Update the cell below to use the IP Address, Bolt Port, and Password, as you did previously."
      ]
    },
    {
      "cell_type": "code",
      "execution_count": null,
      "metadata": {
        "pycharm": {},
        "id": "TFiZc2l8Su-w"
      },
      "outputs": [],
      "source": [
        "# Change the line of code below to use the Bolt URL,  and Password of your Neo4j Database instance.\n",
        "# graph = Graph(\"<Bolt URL>\", auth=(\"neo4j\", \"<Password>\")) \n",
        " \n",
        "graph = Graph(\"bolt://localhost:7687\", auth=(\"neo4j\", \"letmein\"))"
      ]
    },
    {
      "cell_type": "markdown",
      "metadata": {
        "pycharm": {},
        "id": "8bG2AKTgSu-w"
      },
      "source": [
        "## What's in our database?\n",
        "\n",
        "Run the following query to check how many nodes the database contains:"
      ]
    },
    {
      "cell_type": "code",
      "execution_count": null,
      "metadata": {
        "pycharm": {},
        "id": "s_2659xgSu-w",
        "outputId": "097ec330-4c15-44a1-a93c-f3716ece5eba"
      },
      "outputs": [
        {
          "data": {
            "text/plain": [
              "[{'nodes': [Node('Venue', constraints=[\"Constraint( id=6, name='constraint_ae6d9b7b', type='UNIQUENESS', schema=(:Venue {name}), ownedIndex=5 )\"], indexes=[], name='Venue'),\n",
              "   Node('Article', constraints=[\"Constraint( id=2, name='constraint_2e688049', type='UNIQUENESS', schema=(:Article {index}), ownedIndex=1 )\"], indexes=[], name='Article'),\n",
              "   Node('Author', constraints=[\"Constraint( id=4, name='constraint_293d3e9e', type='UNIQUENESS', schema=(:Author {name}), ownedIndex=3 )\"], indexes=[], name='Author')],\n",
              "  'relationships': [VENUE(Node('Article', constraints=[\"Constraint( id=2, name='constraint_2e688049', type='UNIQUENESS', schema=(:Article {index}), ownedIndex=1 )\"], indexes=[], name='Article'), Node('Venue', constraints=[\"Constraint( id=6, name='constraint_ae6d9b7b', type='UNIQUENESS', schema=(:Venue {name}), ownedIndex=5 )\"], indexes=[], name='Venue')),\n",
              "   AUTHOR(Node('Article', constraints=[\"Constraint( id=2, name='constraint_2e688049', type='UNIQUENESS', schema=(:Article {index}), ownedIndex=1 )\"], indexes=[], name='Article'), Node('Author', constraints=[\"Constraint( id=4, name='constraint_293d3e9e', type='UNIQUENESS', schema=(:Author {name}), ownedIndex=3 )\"], indexes=[], name='Author')),\n",
              "   CITED(Node('Article', constraints=[\"Constraint( id=2, name='constraint_2e688049', type='UNIQUENESS', schema=(:Article {index}), ownedIndex=1 )\"], indexes=[], name='Article'), Node('Article', constraints=[\"Constraint( id=2, name='constraint_2e688049', type='UNIQUENESS', schema=(:Article {index}), ownedIndex=1 )\"], indexes=[], name='Article'))]}]"
            ]
          },
          "execution_count": 3,
          "metadata": {},
          "output_type": "execute_result"
        }
      ],
      "source": [
        "graph.run(\"CALL db.schema.visualization()\").data()"
      ]
    },
    {
      "cell_type": "markdown",
      "metadata": {
        "pycharm": {},
        "id": "1LziSVhcSu-x"
      },
      "source": [
        "If you run that query (CALL db.schema.visualization()) in  Neo4j Browser, you see the following visualization:\n",
        "\n",
        "<img src=\"https://github.com/neo4j-contrib/training-v3/blob/master/modules/gds-data-science/supplemental/notebooks/images/data-science-training.png?raw=1\" alt=\"Graph Data Model\"/>\n"
      ]
    },
    {
      "cell_type": "markdown",
      "metadata": {
        "pycharm": {},
        "id": "OaUMDi3RSu-y"
      },
      "source": [
        "Drill down a bit. How many nodes do we have for each of these labels? Run this code:"
      ]
    },
    {
      "cell_type": "code",
      "execution_count": null,
      "metadata": {
        "pycharm": {},
        "id": "Os4fCbGBSu-y",
        "outputId": "304ca4c7-b9a3-4889-8c86-e5ca9a80056a"
      },
      "outputs": [
        {
          "data": {
            "text/html": [
              "<div>\n",
              "<style scoped>\n",
              "    .dataframe tbody tr th:only-of-type {\n",
              "        vertical-align: middle;\n",
              "    }\n",
              "\n",
              "    .dataframe tbody tr th {\n",
              "        vertical-align: top;\n",
              "    }\n",
              "\n",
              "    .dataframe thead th {\n",
              "        text-align: right;\n",
              "    }\n",
              "</style>\n",
              "<table border=\"1\" class=\"dataframe\">\n",
              "  <thead>\n",
              "    <tr style=\"text-align: right;\">\n",
              "      <th></th>\n",
              "      <th>label</th>\n",
              "      <th>count</th>\n",
              "    </tr>\n",
              "  </thead>\n",
              "  <tbody>\n",
              "    <tr>\n",
              "      <th>2</th>\n",
              "      <td>Venue</td>\n",
              "      <td>4</td>\n",
              "    </tr>\n",
              "    <tr>\n",
              "      <th>0</th>\n",
              "      <td>Article</td>\n",
              "      <td>51956</td>\n",
              "    </tr>\n",
              "    <tr>\n",
              "      <th>1</th>\n",
              "      <td>Author</td>\n",
              "      <td>80299</td>\n",
              "    </tr>\n",
              "  </tbody>\n",
              "</table>\n",
              "</div>"
            ],
            "text/plain": [
              "     label  count\n",
              "2    Venue      4\n",
              "0  Article  51956\n",
              "1   Author  80299"
            ]
          },
          "execution_count": 4,
          "metadata": {},
          "output_type": "execute_result"
        }
      ],
      "source": [
        "result = {\"label\": [], \"count\": []}\n",
        "for label in graph.run(\"CALL db.labels()\").to_series():\n",
        "    query = f\"MATCH (:`{label}`) RETURN count(*) AS count\"\n",
        "    count = graph.run(query).to_data_frame().iloc[0]['count']\n",
        "    result[\"label\"].append(label)\n",
        "    result[\"count\"].append(count)\n",
        "nodes_df = pd.DataFrame(data=result)\n",
        "nodes_df.sort_values(\"count\")"
      ]
    },
    {
      "cell_type": "markdown",
      "metadata": {
        "pycharm": {},
        "id": "XJpnpN9ZSu-z"
      },
      "source": [
        "You can visualize the counts using matplotlib> Run the following code:"
      ]
    },
    {
      "cell_type": "code",
      "execution_count": null,
      "metadata": {
        "pycharm": {},
        "id": "R6ERm_onSu-0",
        "outputId": "16f7ae19-e2d8-46c8-c3dd-fd6195bc2b15"
      },
      "outputs": [
        {
          "data": {
            "image/png": "[encoded data removed]",
            "text/plain": [
              "<matplotlib.figure.Figure at 0x7faa5c211208>"
            ]
          },
          "metadata": {},
          "output_type": "display_data"
        }
      ],
      "source": [
        "nodes_df.plot(kind='bar', x='label', y='count', legend=None, title=\"Node Cardinalities\")\n",
        "plt.yscale(\"log\")\n",
        "plt.xticks(rotation=45)\n",
        "plt.tight_layout()\n",
        "plt.show()"
      ]
    },
    {
      "cell_type": "markdown",
      "metadata": {
        "pycharm": {},
        "id": "aHQUedj5Su-0"
      },
      "source": [
        "What types of relationships do we have in our graph? Run this code:"
      ]
    },
    {
      "cell_type": "code",
      "execution_count": null,
      "metadata": {
        "pycharm": {},
        "id": "CoNRdO4eSu-0",
        "outputId": "cfa12d05-648b-4413-c5e3-35c7eb186b23"
      },
      "outputs": [
        {
          "data": {
            "text/html": [
              "<div>\n",
              "<style scoped>\n",
              "    .dataframe tbody tr th:only-of-type {\n",
              "        vertical-align: middle;\n",
              "    }\n",
              "\n",
              "    .dataframe tbody tr th {\n",
              "        vertical-align: top;\n",
              "    }\n",
              "\n",
              "    .dataframe thead th {\n",
              "        text-align: right;\n",
              "    }\n",
              "</style>\n",
              "<table border=\"1\" class=\"dataframe\">\n",
              "  <thead>\n",
              "    <tr style=\"text-align: right;\">\n",
              "      <th></th>\n",
              "      <th>relType</th>\n",
              "      <th>count</th>\n",
              "    </tr>\n",
              "  </thead>\n",
              "  <tbody>\n",
              "    <tr>\n",
              "      <th>2</th>\n",
              "      <td>CITED</td>\n",
              "      <td>28706</td>\n",
              "    </tr>\n",
              "    <tr>\n",
              "      <th>0</th>\n",
              "      <td>VENUE</td>\n",
              "      <td>51956</td>\n",
              "    </tr>\n",
              "    <tr>\n",
              "      <th>1</th>\n",
              "      <td>AUTHOR</td>\n",
              "      <td>140575</td>\n",
              "    </tr>\n",
              "  </tbody>\n",
              "</table>\n",
              "</div>"
            ],
            "text/plain": [
              "  relType   count\n",
              "2   CITED   28706\n",
              "0   VENUE   51956\n",
              "1  AUTHOR  140575"
            ]
          },
          "execution_count": 6,
          "metadata": {},
          "output_type": "execute_result"
        }
      ],
      "source": [
        "result = {\"relType\": [], \"count\": []}\n",
        "for relationship_type in graph.run(\"CALL db.relationshipTypes()\").to_series():\n",
        "    query = f\"MATCH ()-[:`{relationship_type}`]->() RETURN count(*) AS count\"\n",
        "    count = graph.run(query).to_data_frame().iloc[0]['count']\n",
        "    result[\"relType\"].append(relationship_type)\n",
        "    result[\"count\"].append(count)\n",
        "rels_df = pd.DataFrame(data=result)\n",
        "rels_df.sort_values(\"count\")"
      ]
    },
    {
      "cell_type": "markdown",
      "metadata": {
        "pycharm": {},
        "id": "pu2CEKX-Su-1"
      },
      "source": [
        "You can visualize the counts using matplotlib. Run  the following code:"
      ]
    },
    {
      "cell_type": "code",
      "execution_count": null,
      "metadata": {
        "pycharm": {},
        "id": "jLhWcZD6Su-1",
        "outputId": "c7f633ed-4df9-40f1-bdd2-7a78c70be7d7"
      },
      "outputs": [
        {
          "data": {
            "image/png": "[encoded data removed]",
            "text/plain": [
              "<matplotlib.figure.Figure at 0x7faa5c211a58>"
            ]
          },
          "metadata": {},
          "output_type": "display_data"
        }
      ],
      "source": [
        "rels_df.plot(kind='bar', x='relType', y='count', legend=None, title=\"Relationship Cardinalities\")\n",
        "plt.xticks(rotation=45)\n",
        "plt.tight_layout()\n",
        "plt.show()"
      ]
    },
    {
      "cell_type": "markdown",
      "metadata": {
        "pycharm": {},
        "id": "EgRdEoaISu-2"
      },
      "source": [
        "Next,  you will explore the citation data. The following query finds 25 authors, articles, venues, and also shows the number of articles that article has cited, as well as the number of articles that it's been cited by.\n",
        "Run this code:"
      ]
    },
    {
      "cell_type": "code",
      "execution_count": null,
      "metadata": {
        "pycharm": {},
        "id": "hfSC8jeGSu-2",
        "outputId": "6ba65326-5fdc-4fcd-dc90-a8687d6ab968"
      },
      "outputs": [
        {
          "data": {
            "text/html": [
              "<div>\n",
              "<style scoped>\n",
              "    .dataframe tbody tr th:only-of-type {\n",
              "        vertical-align: middle;\n",
              "    }\n",
              "\n",
              "    .dataframe tbody tr th {\n",
              "        vertical-align: top;\n",
              "    }\n",
              "\n",
              "    .dataframe thead th {\n",
              "        text-align: right;\n",
              "    }\n",
              "</style>\n",
              "<table border=\"1\" class=\"dataframe\">\n",
              "  <thead>\n",
              "    <tr style=\"text-align: right;\">\n",
              "      <th></th>\n",
              "      <th>article</th>\n",
              "      <th>author</th>\n",
              "      <th>venue</th>\n",
              "      <th>citationsGiven</th>\n",
              "      <th>citationsReceived</th>\n",
              "    </tr>\n",
              "  </thead>\n",
              "  <tbody>\n",
              "    <tr>\n",
              "      <th>0</th>\n",
              "      <td>Design and implementation of multipurpose sing...</td>\n",
              "      <td>R.S. Sandesh</td>\n",
              "      <td>advances in computing and communications</td>\n",
              "      <td>0</td>\n",
              "      <td>0</td>\n",
              "    </tr>\n",
              "    <tr>\n",
              "      <th>1</th>\n",
              "      <td>Design and implementation of multipurpose sing...</td>\n",
              "      <td>Nithya Venkatesan</td>\n",
              "      <td>advances in computing and communications</td>\n",
              "      <td>0</td>\n",
              "      <td>0</td>\n",
              "    </tr>\n",
              "    <tr>\n",
              "      <th>2</th>\n",
              "      <td>Longer keys may facilitate side channel attacks</td>\n",
              "      <td>Colin D. Walter</td>\n",
              "      <td>Lecture Notes in Computer Science</td>\n",
              "      <td>0</td>\n",
              "      <td>0</td>\n",
              "    </tr>\n",
              "    <tr>\n",
              "      <th>3</th>\n",
              "      <td>Pruning graphs with digital search trees. Appl...</td>\n",
              "      <td>Eric Thierry</td>\n",
              "      <td>Lecture Notes in Computer Science</td>\n",
              "      <td>0</td>\n",
              "      <td>0</td>\n",
              "    </tr>\n",
              "    <tr>\n",
              "      <th>4</th>\n",
              "      <td>Pruning graphs with digital search trees. Appl...</td>\n",
              "      <td>Olivier Raynaud</td>\n",
              "      <td>Lecture Notes in Computer Science</td>\n",
              "      <td>0</td>\n",
              "      <td>0</td>\n",
              "    </tr>\n",
              "    <tr>\n",
              "      <th>5</th>\n",
              "      <td>Pruning graphs with digital search trees. Appl...</td>\n",
              "      <td>Jean-Marc Lanlignel</td>\n",
              "      <td>Lecture Notes in Computer Science</td>\n",
              "      <td>0</td>\n",
              "      <td>0</td>\n",
              "    </tr>\n",
              "    <tr>\n",
              "      <th>6</th>\n",
              "      <td>Using Task Knowledge to Guide Interactor Speci...</td>\n",
              "      <td>José Creissac Campos</td>\n",
              "      <td>Lecture Notes in Computer Science</td>\n",
              "      <td>1</td>\n",
              "      <td>0</td>\n",
              "    </tr>\n",
              "    <tr>\n",
              "      <th>7</th>\n",
              "      <td>Comment on Bell's quadratic quotient method fo...</td>\n",
              "      <td>Leslie Lamport</td>\n",
              "      <td>Communications of The ACM</td>\n",
              "      <td>1</td>\n",
              "      <td>2</td>\n",
              "    </tr>\n",
              "    <tr>\n",
              "      <th>8</th>\n",
              "      <td>Implementing chord for HP2P network</td>\n",
              "      <td>Yang Cao</td>\n",
              "      <td>Lecture Notes in Computer Science</td>\n",
              "      <td>1</td>\n",
              "      <td>0</td>\n",
              "    </tr>\n",
              "    <tr>\n",
              "      <th>9</th>\n",
              "      <td>Implementing chord for HP2P network</td>\n",
              "      <td>Ertao Lv</td>\n",
              "      <td>Lecture Notes in Computer Science</td>\n",
              "      <td>1</td>\n",
              "      <td>0</td>\n",
              "    </tr>\n",
              "    <tr>\n",
              "      <th>10</th>\n",
              "      <td>Implementing chord for HP2P network</td>\n",
              "      <td>Zhuo Peng</td>\n",
              "      <td>Lecture Notes in Computer Science</td>\n",
              "      <td>1</td>\n",
              "      <td>0</td>\n",
              "    </tr>\n",
              "    <tr>\n",
              "      <th>11</th>\n",
              "      <td>Implementing chord for HP2P network</td>\n",
              "      <td>Jian-Jun Qi</td>\n",
              "      <td>Lecture Notes in Computer Science</td>\n",
              "      <td>1</td>\n",
              "      <td>0</td>\n",
              "    </tr>\n",
              "    <tr>\n",
              "      <th>12</th>\n",
              "      <td>Implementing chord for HP2P network</td>\n",
              "      <td>Zhenhua Duan</td>\n",
              "      <td>Lecture Notes in Computer Science</td>\n",
              "      <td>1</td>\n",
              "      <td>0</td>\n",
              "    </tr>\n",
              "    <tr>\n",
              "      <th>13</th>\n",
              "      <td>Logic Programming Infrastructure for Inference...</td>\n",
              "      <td>Peter Baumgartner</td>\n",
              "      <td>Lecture Notes in Computer Science</td>\n",
              "      <td>0</td>\n",
              "      <td>2</td>\n",
              "    </tr>\n",
              "    <tr>\n",
              "      <th>14</th>\n",
              "      <td>Logic Programming Infrastructure for Inference...</td>\n",
              "      <td>Aljoscha Burchardt</td>\n",
              "      <td>Lecture Notes in Computer Science</td>\n",
              "      <td>0</td>\n",
              "      <td>2</td>\n",
              "    </tr>\n",
              "    <tr>\n",
              "      <th>15</th>\n",
              "      <td>Looking on the bright side of black-box crypto...</td>\n",
              "      <td>Matt Blaze</td>\n",
              "      <td>Lecture Notes in Computer Science</td>\n",
              "      <td>0</td>\n",
              "      <td>0</td>\n",
              "    </tr>\n",
              "    <tr>\n",
              "      <th>16</th>\n",
              "      <td>Rapid prototyping of control systems using hig...</td>\n",
              "      <td>Giuseppe Marchetto</td>\n",
              "      <td>international conference on software engineering</td>\n",
              "      <td>0</td>\n",
              "      <td>0</td>\n",
              "    </tr>\n",
              "    <tr>\n",
              "      <th>17</th>\n",
              "      <td>Rapid prototyping of control systems using hig...</td>\n",
              "      <td>Giorgio Bruno</td>\n",
              "      <td>international conference on software engineering</td>\n",
              "      <td>0</td>\n",
              "      <td>0</td>\n",
              "    </tr>\n",
              "    <tr>\n",
              "      <th>18</th>\n",
              "      <td>Iterative MapReduce MPI oil reservoir simulator</td>\n",
              "      <td>Ermek Alimzhanov</td>\n",
              "      <td>international conference on software engineering</td>\n",
              "      <td>0</td>\n",
              "      <td>0</td>\n",
              "    </tr>\n",
              "    <tr>\n",
              "      <th>19</th>\n",
              "      <td>Iterative MapReduce MPI oil reservoir simulator</td>\n",
              "      <td>Madina Mansurova</td>\n",
              "      <td>international conference on software engineering</td>\n",
              "      <td>0</td>\n",
              "      <td>0</td>\n",
              "    </tr>\n",
              "    <tr>\n",
              "      <th>20</th>\n",
              "      <td>Iterative MapReduce MPI oil reservoir simulator</td>\n",
              "      <td>Adai Shomanov</td>\n",
              "      <td>international conference on software engineering</td>\n",
              "      <td>0</td>\n",
              "      <td>0</td>\n",
              "    </tr>\n",
              "    <tr>\n",
              "      <th>21</th>\n",
              "      <td>Iterative MapReduce MPI oil reservoir simulator</td>\n",
              "      <td>Darkhan Akhmed-Zaki</td>\n",
              "      <td>international conference on software engineering</td>\n",
              "      <td>0</td>\n",
              "      <td>0</td>\n",
              "    </tr>\n",
              "    <tr>\n",
              "      <th>22</th>\n",
              "      <td>Iterative MapReduce MPI oil reservoir simulator</td>\n",
              "      <td>Bazargul Matkerim</td>\n",
              "      <td>international conference on software engineering</td>\n",
              "      <td>0</td>\n",
              "      <td>0</td>\n",
              "    </tr>\n",
              "    <tr>\n",
              "      <th>23</th>\n",
              "      <td>Rigorous requirements for real-time systems: e...</td>\n",
              "      <td>Stuart R. Faulk</td>\n",
              "      <td>international conference on software engineering</td>\n",
              "      <td>0</td>\n",
              "      <td>0</td>\n",
              "    </tr>\n",
              "    <tr>\n",
              "      <th>24</th>\n",
              "      <td>Rigorous requirements for real-time systems: e...</td>\n",
              "      <td>Constance L. Heitmeyer</td>\n",
              "      <td>international conference on software engineering</td>\n",
              "      <td>0</td>\n",
              "      <td>0</td>\n",
              "    </tr>\n",
              "  </tbody>\n",
              "</table>\n",
              "</div>"
            ],
            "text/plain": [
              "                                              article                  author  \\\n",
              "0   Design and implementation of multipurpose sing...            R.S. Sandesh   \n",
              "1   Design and implementation of multipurpose sing...       Nithya Venkatesan   \n",
              "2     Longer keys may facilitate side channel attacks         Colin D. Walter   \n",
              "3   Pruning graphs with digital search trees. Appl...            Eric Thierry   \n",
              "4   Pruning graphs with digital search trees. Appl...         Olivier Raynaud   \n",
              "5   Pruning graphs with digital search trees. Appl...     Jean-Marc Lanlignel   \n",
              "6   Using Task Knowledge to Guide Interactor Speci...    José Creissac Campos   \n",
              "7   Comment on Bell's quadratic quotient method fo...          Leslie Lamport   \n",
              "8                 Implementing chord for HP2P network                Yang Cao   \n",
              "9                 Implementing chord for HP2P network                Ertao Lv   \n",
              "10                Implementing chord for HP2P network               Zhuo Peng   \n",
              "11                Implementing chord for HP2P network             Jian-Jun Qi   \n",
              "12                Implementing chord for HP2P network            Zhenhua Duan   \n",
              "13  Logic Programming Infrastructure for Inference...       Peter Baumgartner   \n",
              "14  Logic Programming Infrastructure for Inference...      Aljoscha Burchardt   \n",
              "15  Looking on the bright side of black-box crypto...              Matt Blaze   \n",
              "16  Rapid prototyping of control systems using hig...      Giuseppe Marchetto   \n",
              "17  Rapid prototyping of control systems using hig...           Giorgio Bruno   \n",
              "18    Iterative MapReduce MPI oil reservoir simulator        Ermek Alimzhanov   \n",
              "19    Iterative MapReduce MPI oil reservoir simulator        Madina Mansurova   \n",
              "20    Iterative MapReduce MPI oil reservoir simulator           Adai Shomanov   \n",
              "21    Iterative MapReduce MPI oil reservoir simulator     Darkhan Akhmed-Zaki   \n",
              "22    Iterative MapReduce MPI oil reservoir simulator       Bazargul Matkerim   \n",
              "23  Rigorous requirements for real-time systems: e...         Stuart R. Faulk   \n",
              "24  Rigorous requirements for real-time systems: e...  Constance L. Heitmeyer   \n",
              "\n",
              "                                               venue  citationsGiven  \\\n",
              "0           advances in computing and communications               0   \n",
              "1           advances in computing and communications               0   \n",
              "2                  Lecture Notes in Computer Science               0   \n",
              "3                  Lecture Notes in Computer Science               0   \n",
              "4                  Lecture Notes in Computer Science               0   \n",
              "5                  Lecture Notes in Computer Science               0   \n",
              "6                  Lecture Notes in Computer Science               1   \n",
              "7                          Communications of The ACM               1   \n",
              "8                  Lecture Notes in Computer Science               1   \n",
              "9                  Lecture Notes in Computer Science               1   \n",
              "10                 Lecture Notes in Computer Science               1   \n",
              "11                 Lecture Notes in Computer Science               1   \n",
              "12                 Lecture Notes in Computer Science               1   \n",
              "13                 Lecture Notes in Computer Science               0   \n",
              "14                 Lecture Notes in Computer Science               0   \n",
              "15                 Lecture Notes in Computer Science               0   \n",
              "16  international conference on software engineering               0   \n",
              "17  international conference on software engineering               0   \n",
              "18  international conference on software engineering               0   \n",
              "19  international conference on software engineering               0   \n",
              "20  international conference on software engineering               0   \n",
              "21  international conference on software engineering               0   \n",
              "22  international conference on software engineering               0   \n",
              "23  international conference on software engineering               0   \n",
              "24  international conference on software engineering               0   \n",
              "\n",
              "    citationsReceived  \n",
              "0                   0  \n",
              "1                   0  \n",
              "2                   0  \n",
              "3                   0  \n",
              "4                   0  \n",
              "5                   0  \n",
              "6                   0  \n",
              "7                   2  \n",
              "8                   0  \n",
              "9                   0  \n",
              "10                  0  \n",
              "11                  0  \n",
              "12                  0  \n",
              "13                  2  \n",
              "14                  2  \n",
              "15                  0  \n",
              "16                  0  \n",
              "17                  0  \n",
              "18                  0  \n",
              "19                  0  \n",
              "20                  0  \n",
              "21                  0  \n",
              "22                  0  \n",
              "23                  0  \n",
              "24                  0  "
            ]
          },
          "execution_count": 8,
          "metadata": {},
          "output_type": "execute_result"
        }
      ],
      "source": [
        "exploratory_query = \"\"\"\n",
        "MATCH (author:Author)<-[:AUTHOR]-(article:Article)-[:VENUE]->(venue)\n",
        "RETURN article.title AS article, author.name AS author, venue.name AS venue, \n",
        "       size((article)-[:CITED]->()) AS citationsGiven, size((article)<-[:CITED]-()) AS citationsReceived\n",
        "ORDER BY rand()\n",
        "LIMIT 25\n",
        "\"\"\"\n",
        "\n",
        "graph.run(exploratory_query).to_data_frame()"
      ]
    },
    {
      "cell_type": "markdown",
      "metadata": {
        "pycharm": {},
        "id": "6G7zCSIuSu-2"
      },
      "source": [
        "Examine the citation data more closely. Here is a query that returns the number of citations that each article has, and then creates a distribution of those counts using pandas `describe` function. Run this code:"
      ]
    },
    {
      "cell_type": "code",
      "execution_count": null,
      "metadata": {
        "pycharm": {},
        "id": "aXlsok_3Su-2",
        "outputId": "5a388ee4-b592-448e-fcb8-e3a33b7301ae"
      },
      "outputs": [
        {
          "data": {
            "text/html": [
              "<div>\n",
              "<style scoped>\n",
              "    .dataframe tbody tr th:only-of-type {\n",
              "        vertical-align: middle;\n",
              "    }\n",
              "\n",
              "    .dataframe tbody tr th {\n",
              "        vertical-align: top;\n",
              "    }\n",
              "\n",
              "    .dataframe thead th {\n",
              "        text-align: right;\n",
              "    }\n",
              "</style>\n",
              "<table border=\"1\" class=\"dataframe\">\n",
              "  <thead>\n",
              "    <tr style=\"text-align: right;\">\n",
              "      <th></th>\n",
              "      <th>citations</th>\n",
              "    </tr>\n",
              "  </thead>\n",
              "  <tbody>\n",
              "    <tr>\n",
              "      <th>count</th>\n",
              "      <td>51956.000</td>\n",
              "    </tr>\n",
              "    <tr>\n",
              "      <th>mean</th>\n",
              "      <td>0.553</td>\n",
              "    </tr>\n",
              "    <tr>\n",
              "      <th>std</th>\n",
              "      <td>2.418</td>\n",
              "    </tr>\n",
              "    <tr>\n",
              "      <th>min</th>\n",
              "      <td>0.000</td>\n",
              "    </tr>\n",
              "    <tr>\n",
              "      <th>25%</th>\n",
              "      <td>0.000</td>\n",
              "    </tr>\n",
              "    <tr>\n",
              "      <th>50%</th>\n",
              "      <td>0.000</td>\n",
              "    </tr>\n",
              "    <tr>\n",
              "      <th>75%</th>\n",
              "      <td>0.000</td>\n",
              "    </tr>\n",
              "    <tr>\n",
              "      <th>90%</th>\n",
              "      <td>1.000</td>\n",
              "    </tr>\n",
              "    <tr>\n",
              "      <th>99%</th>\n",
              "      <td>8.000</td>\n",
              "    </tr>\n",
              "    <tr>\n",
              "      <th>max</th>\n",
              "      <td>211.000</td>\n",
              "    </tr>\n",
              "  </tbody>\n",
              "</table>\n",
              "</div>"
            ],
            "text/plain": [
              "       citations\n",
              "count  51956.000\n",
              "mean       0.553\n",
              "std        2.418\n",
              "min        0.000\n",
              "25%        0.000\n",
              "50%        0.000\n",
              "75%        0.000\n",
              "90%        1.000\n",
              "99%        8.000\n",
              "max      211.000"
            ]
          },
          "execution_count": 9,
          "metadata": {},
          "output_type": "execute_result"
        }
      ],
      "source": [
        "query = \"\"\"\n",
        "MATCH (a:Article)\n",
        "RETURN size((a)<-[:CITED]-()) AS citations\n",
        "\"\"\"\n",
        "\n",
        "citation_df = graph.run(query).to_data_frame()\n",
        "citation_df.describe([.25, .5, .75, .9, .99])"
      ]
    },
    {
      "cell_type": "markdown",
      "metadata": {
        "pycharm": {},
        "id": "YW73WsIMSu-3"
      },
      "source": [
        "Most articles are being cited very few times. 99% of articles have 8 citations or less. Notice that one article has been cited more than 200 times. You will use a log scale histogram to visualize the data. Run this code:"
      ]
    },
    {
      "cell_type": "code",
      "execution_count": null,
      "metadata": {
        "pycharm": {},
        "id": "Rww2ACriSu-3",
        "outputId": "b9f0585a-07d1-4742-fc7c-787ec7f3c7c2"
      },
      "outputs": [
        {
          "data": {
            "image/png": "[encoded data removed]",
            "text/plain": [
              "<Figure size 432x288 with 1 Axes>"
            ]
          },
          "metadata": {},
          "output_type": "display_data"
        }
      ],
      "source": [
        "fig1, ax1 = plt.subplots()\n",
        "ax1.hist(pd.Series(citation_df['citations'].dropna()), 1250, density=True, facecolor='g', alpha=0.75)\n",
        "ax1.set_xscale(\"log\")\n",
        "plt.tight_layout()\n",
        "plt.show()"
      ]
    },
    {
      "cell_type": "markdown",
      "metadata": {
        "pycharm": {},
        "id": "Ehy81botSu-3"
      },
      "source": [
        "## Exercise instructions\n",
        "\n",
        "1. Create a similar query showing the articles that cite the most other papers? Note that you will only need to do a slight tweak of the Cypher query to do this. \n",
        "2. What about a distribution of the number of articles published by authors?\n",
        "\n",
        "Keep the results of this exercise handy as they may be useful for the quiz at the end of this module."
      ]
    }
  ],
  "metadata": {
    "kernelspec": {
      "display_name": "scispacy",
      "language": "python",
      "name": "scispacy"
    },
    "language_info": {
      "codemirror_mode": {
        "name": "ipython",
        "version": 3
      },
      "file_extension": ".py",
      "mimetype": "text/x-python",
      "name": "python",
      "nbconvert_exporter": "python",
      "pygments_lexer": "ipython3",
      "version": "3.6.10"
    },
    "colab": {
      "name": "02_EDA.ipynb",
      "provenance": []
    }
  },
  "nbformat": 4,
  "nbformat_minor": 0
}